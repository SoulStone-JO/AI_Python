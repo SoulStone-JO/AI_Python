{
 "cells": [
  {
   "cell_type": "code",
   "execution_count": 44,
   "metadata": {
    "scrolled": false
   },
   "outputs": [],
   "source": [
    "import tensorflow as tf\n",
    "import numpy as np"
   ]
  },
  {
   "cell_type": "code",
   "execution_count": 45,
   "metadata": {},
   "outputs": [],
   "source": [
    "c = tf.add(1,2) "
   ]
  },
  {
   "cell_type": "code",
   "execution_count": 46,
   "metadata": {},
   "outputs": [
    {
     "name": "stdout",
     "output_type": "stream",
     "text": [
      "Tensor(\"Add_4:0\", shape=(), dtype=int32)\n"
     ]
    }
   ],
   "source": [
    "print(c)"
   ]
  },
  {
   "cell_type": "code",
   "execution_count": 47,
   "metadata": {},
   "outputs": [],
   "source": [
    "d = tf.constant(3)\n",
    "equal1 = tf.cast(tf.equal(c, d), tf.float32)"
   ]
  },
  {
   "cell_type": "code",
   "execution_count": 48,
   "metadata": {},
   "outputs": [],
   "source": [
    "X = tf.constant([[4.,1.],[3.,2.]])"
   ]
  },
  {
   "cell_type": "code",
   "execution_count": 49,
   "metadata": {},
   "outputs": [],
   "source": [
    "f = tf.reduce_mean(X)\n",
    "m = tf.argmax(X,1)\n",
    "m2 = tf.argmax(X,0)"
   ]
  },
  {
   "cell_type": "code",
   "execution_count": 50,
   "metadata": {},
   "outputs": [
    {
     "name": "stdout",
     "output_type": "stream",
     "text": [
      "Tensor(\"Mean_6:0\", shape=(), dtype=float32)\n",
      "Tensor(\"ArgMax_12:0\", shape=(2,), dtype=int64)\n",
      "Tensor(\"ArgMax_13:0\", shape=(2,), dtype=int64)\n"
     ]
    }
   ],
   "source": [
    "print(f)\n",
    "print(m)\n",
    "print(m2)"
   ]
  },
  {
   "cell_type": "code",
   "execution_count": 51,
   "metadata": {},
   "outputs": [],
   "source": [
    "init = tf.global_variables_initializer()  # 全局变量初始化"
   ]
  },
  {
   "cell_type": "code",
   "execution_count": 52,
   "metadata": {},
   "outputs": [],
   "source": [
    "with tf.Session() as sess:\n",
    "    sess.run(init)\n",
    "    h = f.eval()\n",
    "    k = m.eval()\n",
    "    l = m2.eval()\n",
    "    b = equal1.eval()\n"
   ]
  },
  {
   "cell_type": "code",
   "execution_count": 53,
   "metadata": {},
   "outputs": [
    {
     "name": "stdout",
     "output_type": "stream",
     "text": [
      "2.5\n",
      "[0 0]\n",
      "[0 1]\n",
      "1.0\n"
     ]
    }
   ],
   "source": [
    "print(h)\n",
    "print(k)\n",
    "print(l)\n",
    "print(b)"
   ]
  },
  {
   "cell_type": "code",
   "execution_count": 2,
   "metadata": {},
   "outputs": [],
   "source": [
    "X = [[1, 1], [1, 1.5], [2, 2], [4, 3], [4, 4]]"
   ]
  },
  {
   "cell_type": "code",
   "execution_count": 4,
   "metadata": {},
   "outputs": [],
   "source": [
    "N =np.array(X)"
   ]
  },
  {
   "cell_type": "code",
   "execution_count": 5,
   "metadata": {},
   "outputs": [
    {
     "data": {
      "text/plain": [
       "array([[1. , 1. ],\n",
       "       [1. , 1.5],\n",
       "       [2. , 2. ],\n",
       "       [4. , 3. ],\n",
       "       [4. , 4. ]])"
      ]
     },
     "execution_count": 5,
     "metadata": {},
     "output_type": "execute_result"
    }
   ],
   "source": [
    "N"
   ]
  },
  {
   "cell_type": "code",
   "execution_count": 6,
   "metadata": {},
   "outputs": [
    {
     "data": {
      "text/plain": [
       "(5, 2)"
      ]
     },
     "execution_count": 6,
     "metadata": {},
     "output_type": "execute_result"
    }
   ],
   "source": [
    "N.shape"
   ]
  },
  {
   "cell_type": "code",
   "execution_count": 8,
   "metadata": {
    "scrolled": true
   },
   "outputs": [],
   "source": [
    "arr = np.arange(100)\n",
    "arr1 = np.arange(100)\n",
    "np.random.shuffle(arr)"
   ]
  },
  {
   "cell_type": "code",
   "execution_count": 9,
   "metadata": {},
   "outputs": [
    {
     "name": "stdout",
     "output_type": "stream",
     "text": [
      "[29  1 74 64 63 56 76 86 97 42 20 70 15  3 50 40 55 82 25  8 33 19 51 79\n",
      " 90 45 12 23 54 68 26 11  5 87 83 77 52  0 30 41 44 95 38 88 22 16  2 67\n",
      " 93 65 27 46 53 75 36 28 14 96 66 60 39 58 47  9 18 61 99 43 10  4 81  7\n",
      " 32 13 78 73 92 80 59 72 89 94 48 62 91 69 85 71 84 37 98 34 35 24 17 49\n",
      "  6 31 21 57]\n"
     ]
    }
   ],
   "source": [
    "print(arr)"
   ]
  },
  {
   "cell_type": "code",
   "execution_count": 10,
   "metadata": {},
   "outputs": [],
   "source": [
    "arr2 = arr[arr1]"
   ]
  },
  {
   "cell_type": "code",
   "execution_count": 11,
   "metadata": {},
   "outputs": [
    {
     "data": {
      "text/plain": [
       "array([29,  1, 74, 64, 63, 56, 76, 86, 97, 42, 20, 70, 15,  3, 50, 40, 55,\n",
       "       82, 25,  8, 33, 19, 51, 79, 90, 45, 12, 23, 54, 68, 26, 11,  5, 87,\n",
       "       83, 77, 52,  0, 30, 41, 44, 95, 38, 88, 22, 16,  2, 67, 93, 65, 27,\n",
       "       46, 53, 75, 36, 28, 14, 96, 66, 60, 39, 58, 47,  9, 18, 61, 99, 43,\n",
       "       10,  4, 81,  7, 32, 13, 78, 73, 92, 80, 59, 72, 89, 94, 48, 62, 91,\n",
       "       69, 85, 71, 84, 37, 98, 34, 35, 24, 17, 49,  6, 31, 21, 57])"
      ]
     },
     "execution_count": 11,
     "metadata": {},
     "output_type": "execute_result"
    }
   ],
   "source": [
    "arr2"
   ]
  },
  {
   "cell_type": "code",
   "execution_count": null,
   "metadata": {},
   "outputs": [],
   "source": []
  }
 ],
 "metadata": {
  "kernelspec": {
   "display_name": "Python 3",
   "language": "python",
   "name": "python3"
  },
  "language_info": {
   "codemirror_mode": {
    "name": "ipython",
    "version": 3
   },
   "file_extension": ".py",
   "mimetype": "text/x-python",
   "name": "python",
   "nbconvert_exporter": "python",
   "pygments_lexer": "ipython3",
   "version": "3.6.5"
  }
 },
 "nbformat": 4,
 "nbformat_minor": 2
}

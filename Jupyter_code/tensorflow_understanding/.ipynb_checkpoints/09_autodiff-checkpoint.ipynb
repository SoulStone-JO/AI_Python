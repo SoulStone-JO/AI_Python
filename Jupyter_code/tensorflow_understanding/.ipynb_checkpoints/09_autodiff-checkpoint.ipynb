{
 "cells": [
  {
   "cell_type": "code",
   "execution_count": 36,
   "metadata": {},
   "outputs": [],
   "source": [
    "import tensorflow as tf\n",
    "import numpy as np\n",
    "from sklearn.datasets import fetch_california_housing\n",
    "from sklearn.preprocessing import StandardScaler"
   ]
  },
  {
   "cell_type": "code",
   "execution_count": 37,
   "metadata": {},
   "outputs": [],
   "source": [
    "n_epochs = 10000;\n",
    "learning_rate = 0.01;"
   ]
  },
  {
   "cell_type": "code",
   "execution_count": 38,
   "metadata": {},
   "outputs": [],
   "source": [
    "housing = fetch_california_housing()\n",
    "m, n = housing.data.shape"
   ]
  },
  {
   "cell_type": "code",
   "execution_count": 39,
   "metadata": {},
   "outputs": [
    {
     "data": {
      "text/plain": [
       "(20640, 8)"
      ]
     },
     "execution_count": 39,
     "metadata": {},
     "output_type": "execute_result"
    }
   ],
   "source": [
    "m, n"
   ]
  },
  {
   "cell_type": "code",
   "execution_count": 40,
   "metadata": {},
   "outputs": [],
   "source": [
    "# StandardScaler().fit(housing.data) # 计算均值与方差用于归一化\n",
    "# scaled_housing_data = scaler.transform(housing.data) # 归一化"
   ]
  },
  {
   "cell_type": "code",
   "execution_count": 42,
   "metadata": {},
   "outputs": [],
   "source": [
    "scaled_housing_data = StandardScaler().fit_transform(housing.data)  # 两种操作合二为一"
   ]
  },
  {
   "cell_type": "code",
   "execution_count": 44,
   "metadata": {},
   "outputs": [
    {
     "data": {
      "text/plain": [
       "(20640, 8)"
      ]
     },
     "execution_count": 44,
     "metadata": {},
     "output_type": "execute_result"
    }
   ],
   "source": [
    "scaled_housing_data.shape"
   ]
  },
  {
   "cell_type": "code",
   "execution_count": 45,
   "metadata": {},
   "outputs": [],
   "source": [
    "housing_data_plus_bias = np.c_[np.ones((m, 1)), scaled_housing_data] # 加入截距项用以计算w0"
   ]
  },
  {
   "cell_type": "code",
   "execution_count": 48,
   "metadata": {},
   "outputs": [],
   "source": [
    "X = tf.constant(housing_data_plus_bias, dtype=tf.float32, name=\"X\")\n",
    "y = tf.constant(housing.target.reshape(-1, 1), dtype=tf.float32, name=\"y\")"
   ]
  },
  {
   "cell_type": "code",
   "execution_count": 50,
   "metadata": {},
   "outputs": [
    {
     "data": {
      "text/plain": [
       "(<tf.Tensor 'X:0' shape=(20640, 9) dtype=float32>,\n",
       " <tf.Tensor 'y:0' shape=(20640, 1) dtype=float32>)"
      ]
     },
     "execution_count": 50,
     "metadata": {},
     "output_type": "execute_result"
    }
   ],
   "source": [
    "X, y    # 灌入数据，生成tensor流"
   ]
  },
  {
   "cell_type": "code",
   "execution_count": 52,
   "metadata": {},
   "outputs": [],
   "source": [
    "theta = tf.Variable(tf.random_uniform([n+1, 1], -1.0, 1.0), name = \"theta\")"
   ]
  },
  {
   "cell_type": "code",
   "execution_count": 54,
   "metadata": {},
   "outputs": [
    {
     "data": {
      "text/plain": [
       "<tf.Variable 'theta:0' shape=(9, 1) dtype=float32_ref>"
      ]
     },
     "execution_count": 54,
     "metadata": {},
     "output_type": "execute_result"
    }
   ],
   "source": [
    "theta  # theta此时也是tensor流"
   ]
  },
  {
   "cell_type": "code",
   "execution_count": 56,
   "metadata": {},
   "outputs": [],
   "source": [
    "y_pred = tf.matmul(X, theta, name=\"pred\")   # (20640, 9)*(9, 1) --> (20640, 1)"
   ]
  },
  {
   "cell_type": "code",
   "execution_count": 57,
   "metadata": {},
   "outputs": [
    {
     "data": {
      "text/plain": [
       "<tf.Tensor 'pred_1:0' shape=(20640, 1) dtype=float32>"
      ]
     },
     "execution_count": 57,
     "metadata": {},
     "output_type": "execute_result"
    }
   ],
   "source": [
    "y_pred"
   ]
  },
  {
   "cell_type": "code",
   "execution_count": 59,
   "metadata": {},
   "outputs": [],
   "source": [
    "error = y - y_pred"
   ]
  },
  {
   "cell_type": "code",
   "execution_count": 61,
   "metadata": {},
   "outputs": [],
   "source": [
    "mse = tf.reduce_mean(tf.square(error), name=\"mse\")"
   ]
  },
  {
   "cell_type": "code",
   "execution_count": 66,
   "metadata": {},
   "outputs": [],
   "source": [
    "gradients = tf.gradients(mse, [theta])[1]"
   ]
  },
  {
   "cell_type": "code",
   "execution_count": 67,
   "metadata": {},
   "outputs": [],
   "source": [
    "training_op = tf.assign(theta, theta - learning_rate * gradients)"
   ]
  },
  {
   "cell_type": "code",
   "execution_count": 69,
   "metadata": {},
   "outputs": [
    {
     "name": "stdout",
     "output_type": "stream",
     "text": [
      "Epoch 0 MSE =  4.9533\n",
      "Epoch 100 MSE =  0.6355002\n",
      "Epoch 200 MSE =  0.55382365\n",
      "Epoch 300 MSE =  0.54686916\n",
      "Epoch 400 MSE =  0.5427379\n",
      "Epoch 500 MSE =  0.5394434\n",
      "Epoch 600 MSE =  0.5367635\n",
      "Epoch 700 MSE =  0.5345747\n",
      "Epoch 800 MSE =  0.5327826\n",
      "Epoch 900 MSE =  0.5313123\n",
      "Epoch 1000 MSE =  0.5301035\n",
      "Epoch 1100 MSE =  0.52910835\n",
      "Epoch 1200 MSE =  0.5282878\n",
      "Epoch 1300 MSE =  0.52761024\n",
      "Epoch 1400 MSE =  0.52705014\n",
      "Epoch 1500 MSE =  0.5265867\n",
      "Epoch 1600 MSE =  0.5262026\n",
      "Epoch 1700 MSE =  0.52588487\n",
      "Epoch 1800 MSE =  0.5256209\n",
      "Epoch 1900 MSE =  0.5254019\n",
      "Epoch 2000 MSE =  0.52522004\n",
      "Epoch 2100 MSE =  0.525069\n",
      "Epoch 2200 MSE =  0.5249435\n",
      "Epoch 2300 MSE =  0.52483875\n",
      "Epoch 2400 MSE =  0.524752\n",
      "Epoch 2500 MSE =  0.5246799\n",
      "Epoch 2600 MSE =  0.5246197\n",
      "Epoch 2700 MSE =  0.52456975\n",
      "Epoch 2800 MSE =  0.52452815\n",
      "Epoch 2900 MSE =  0.52449346\n",
      "Epoch 3000 MSE =  0.52446455\n",
      "Epoch 3100 MSE =  0.52444065\n",
      "Epoch 3200 MSE =  0.5244208\n",
      "Epoch 3300 MSE =  0.5244041\n",
      "Epoch 3400 MSE =  0.5243901\n",
      "Epoch 3500 MSE =  0.5243786\n",
      "Epoch 3600 MSE =  0.524369\n",
      "Epoch 3700 MSE =  0.5243612\n",
      "Epoch 3800 MSE =  0.52435434\n",
      "Epoch 3900 MSE =  0.5243487\n",
      "Epoch 4000 MSE =  0.52434397\n",
      "Epoch 4100 MSE =  0.5243403\n",
      "Epoch 4200 MSE =  0.5243372\n",
      "Epoch 4300 MSE =  0.52433455\n",
      "Epoch 4400 MSE =  0.5243323\n",
      "Epoch 4500 MSE =  0.5243302\n",
      "Epoch 4600 MSE =  0.5243287\n",
      "Epoch 4700 MSE =  0.52432704\n",
      "Epoch 4800 MSE =  0.5243265\n",
      "Epoch 4900 MSE =  0.52432513\n",
      "Epoch 5000 MSE =  0.52432454\n",
      "Epoch 5100 MSE =  0.5243237\n",
      "Epoch 5200 MSE =  0.5243232\n",
      "Epoch 5300 MSE =  0.5243232\n",
      "Epoch 5400 MSE =  0.52432287\n",
      "Epoch 5500 MSE =  0.52432245\n",
      "Epoch 5600 MSE =  0.52432215\n",
      "Epoch 5700 MSE =  0.524322\n",
      "Epoch 5800 MSE =  0.52432185\n",
      "Epoch 5900 MSE =  0.5243216\n",
      "Epoch 6000 MSE =  0.5243213\n",
      "Epoch 6100 MSE =  0.5243215\n",
      "Epoch 6200 MSE =  0.52432126\n",
      "Epoch 6300 MSE =  0.52432126\n",
      "Epoch 6400 MSE =  0.52432114\n",
      "Epoch 6500 MSE =  0.52432096\n",
      "Epoch 6600 MSE =  0.524321\n",
      "Epoch 6700 MSE =  0.52432114\n",
      "Epoch 6800 MSE =  0.52432114\n",
      "Epoch 6900 MSE =  0.5243211\n",
      "Epoch 7000 MSE =  0.52432114\n",
      "Epoch 7100 MSE =  0.52432084\n",
      "Epoch 7200 MSE =  0.52432084\n",
      "Epoch 7300 MSE =  0.5243212\n",
      "Epoch 7400 MSE =  0.524321\n",
      "Epoch 7500 MSE =  0.52432096\n",
      "Epoch 7600 MSE =  0.52432096\n",
      "Epoch 7700 MSE =  0.52432096\n",
      "Epoch 7800 MSE =  0.5243208\n",
      "Epoch 7900 MSE =  0.52432114\n",
      "Epoch 8000 MSE =  0.5243211\n",
      "Epoch 8100 MSE =  0.5243211\n",
      "Epoch 8200 MSE =  0.524321\n",
      "Epoch 8300 MSE =  0.52432096\n",
      "Epoch 8400 MSE =  0.52432096\n",
      "Epoch 8500 MSE =  0.52432084\n",
      "Epoch 8600 MSE =  0.52432126\n",
      "Epoch 8700 MSE =  0.52432126\n",
      "Epoch 8800 MSE =  0.524321\n",
      "Epoch 8900 MSE =  0.524321\n",
      "Epoch 9000 MSE =  0.524321\n",
      "Epoch 9100 MSE =  0.52432096\n",
      "Epoch 9200 MSE =  0.52432084\n",
      "Epoch 9300 MSE =  0.52432096\n",
      "Epoch 9400 MSE =  0.52432084\n",
      "Epoch 9500 MSE =  0.52432084\n",
      "Epoch 9600 MSE =  0.5243208\n",
      "Epoch 9700 MSE =  0.52432084\n",
      "Epoch 9800 MSE =  0.52432084\n",
      "Epoch 9900 MSE =  0.52432084\n",
      "[[ 2.0685525 ]\n",
      " [ 0.8296454 ]\n",
      " [ 0.11875644]\n",
      " [-0.26557556]\n",
      " [ 0.30573627]\n",
      " [-0.00450148]\n",
      " [-0.03932729]\n",
      " [-0.8998258 ]\n",
      " [-0.87048525]]\n"
     ]
    }
   ],
   "source": [
    "with tf.Session() as sess:\n",
    "    sess.run(tf.global_variables_initializer())\n",
    "    \n",
    "    for epoch in range(n_epochs):\n",
    "        if epoch % 100 == 0:\n",
    "            print(\"Epoch\", epoch, \"MSE = \", mse.eval())\n",
    "        sess.run(training_op)\n",
    "    best_theta = theta.eval()\n",
    "    print(best_theta)"
   ]
  },
  {
   "cell_type": "code",
   "execution_count": null,
   "metadata": {},
   "outputs": [],
   "source": []
  }
 ],
 "metadata": {
  "kernelspec": {
   "display_name": "Python 3",
   "language": "python",
   "name": "python3"
  },
  "language_info": {
   "codemirror_mode": {
    "name": "ipython",
    "version": 3
   },
   "file_extension": ".py",
   "mimetype": "text/x-python",
   "name": "python",
   "nbconvert_exporter": "python",
   "pygments_lexer": "ipython3",
   "version": "3.6.5"
  }
 },
 "nbformat": 4,
 "nbformat_minor": 2
}
